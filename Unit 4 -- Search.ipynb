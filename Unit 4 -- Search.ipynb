{
 "cells": [
  {
   "cell_type": "markdown",
   "metadata": {},
   "source": [
    "# 4. Searching"
   ]
  },
  {
   "cell_type": "markdown",
   "metadata": {},
   "source": [
    "## 4.1 Searching Lists"
   ]
  },
  {
   "cell_type": "markdown",
   "metadata": {},
   "source": [
    "#### Algorithm: Selection\n",
    "Finding the median of a collection of numbers is selection problem with $k=(n+1)/2$ if $n$ is odd (and, if $n$ is even, the median is the mean of the $k$th and $(k+1)$th smallest items, where $k=n/2$)."
   ]
  },
  {
   "cell_type": "markdown",
   "metadata": {},
   "source": [
    "#### Initial Insight\n",
    "Choose a value from $S$, to be used as <b>pivotValue</b>. Then divide the list into two partitions, <b>leftPart</b> (containing the list items that are smaller than <b>pivotValue</b>) and <b>rightPart</b> (containing the list items that are greater than <b>pivotValue</b>).\n",
    "If the $k$th smallest item has been found, stop. Otherwise, select the partition that must contain the $k$th smallest item, and do the whole thing again with this partition."
   ]
  },
  {
   "cell_type": "markdown",
   "metadata": {},
   "source": [
    "#### Specification\n",
    "\n",
    "<table>\n",
    "   <tr>\n",
    "     <th>Name:</th>\n",
    "     <td><b>Selection</b></td>\n",
    "   </tr>\n",
    "   <tr>\n",
    "     <th>Inputs:</th>\n",
    "     <td>A sequence of integers $S = \\{s_1, s_2, s_3, ..., s_n\\}$<br/>An integer $k$</td>\n",
    "   </tr>\n",
    "   <tr>\n",
    "     <th>Outputs:</th>\n",
    "     <td>An integer $x$</td>\n",
    "   </tr>\n",
    "   <tr>\n",
    "     <th>Preconditions:</th>\n",
    "     <td>Length of $S>0$ and $k>0$ and $k\\le n$</td>\n",
    "   </tr>\n",
    "   <tr>\n",
    "     <th>Postcondition:</th>\n",
    "     <td>$x$ is the $k$th smallest item in $S$</td>\n",
    "   </tr>\n",
    "</table> "
   ]
  },
  {
   "cell_type": "markdown",
   "metadata": {},
   "source": [
    "#### Code"
   ]
  },
  {
   "cell_type": "code",
   "execution_count": 22,
   "metadata": {
    "collapsed": false
   },
   "outputs": [
    {
     "name": "stdout",
     "output_type": "stream",
     "text": [
      "Median: 11\n"
     ]
    }
   ],
   "source": [
    "def quickSelect(k, aList):\n",
    "\n",
    "    if len(aList) == 1: \n",
    "        return aList[0]     # Base case\n",
    "    \n",
    "    pivotValue = aList[0]\n",
    "    leftPart = []\n",
    "    rightPart = []\n",
    "    \n",
    "    for item in aList[1:]:\n",
    "        if item < pivotValue: \n",
    "            leftPart.append(item)\n",
    "        else: \n",
    "            rightPart.append(item)\n",
    "    \n",
    "    if len(leftPart) >= k: \n",
    "        return quickSelect(k, leftPart)\n",
    "    elif len(leftPart) == k - 1: \n",
    "        return pivotValue\n",
    "    else: \n",
    "        return quickSelect(k - len(leftPart) -1, rightPart)    \n",
    "\n",
    "\n",
    "\n",
    "print(\"Median:\", quickSelect(6, [2, 36, 5, 21, 8, 13, 11, 20, 4, 1]))"
   ]
  },
  {
   "cell_type": "code",
   "execution_count": 23,
   "metadata": {
    "collapsed": false
   },
   "outputs": [
    {
     "name": "stdout",
     "output_type": "stream",
     "text": [
      "Median: 11\n"
     ]
    }
   ],
   "source": [
    "def quickSelect(k, aList):\n",
    "\n",
    "    if len(aList) == 1: return aList[0]\n",
    "    \n",
    "    pivotValue = aList[0]\n",
    "    leftPart = [x for x in aList[1:] if x < pivotValue]\n",
    "    rightPart = [x for x in aList[1:] if not x < pivotValue]\n",
    "\n",
    "    if len(leftPart) >= k: return quickSelect(k, leftPart)\n",
    "    elif len(leftPart) == k - 1: return pivotValue\n",
    "    else: return quickSelect(k - len(leftPart) -1, rightPart)    \n",
    "\n",
    "\n",
    "\n",
    "print(\"Median:\", quickSelect(6, [2, 36, 5, 21, 8, 13, 11, 20, 4, 1]))"
   ]
  },
  {
   "cell_type": "markdown",
   "metadata": {},
   "source": [
    "#### Remarks\n",
    "The crucial step (<i>cf.</i> <b>Quick Sort</b>) that determines whether we have best case or worst case performance is the choice of the pivot – if we are really lucky we will get a value that cuts down the list the algorithm needs to search very substantially at each step.<br/><br/>\n",
    "The algorithm is divide-and-conquer and each iteration makes the sub-problem substantially smaller. In <b>Quick Sort</b>, both partitions are sorted recursively and provided that the pivot, at each stage, divides the list up into equal parts, we achieve  $O(n $log$ n)$ complexity.<br/><br/>\n",
    "However, in the <b>Selection</b> algorithm we know which partition to search, so we only deal with one of them on each recursive call and as a result it is even more efficient. Hence, it can be shown that its complexity is $O(n)$."
   ]
  },
  {
   "cell_type": "markdown",
   "metadata": {},
   "source": [
    "## 4.2 Searching for patterns"
   ]
  },
  {
   "cell_type": "markdown",
   "metadata": {},
   "source": [
    "It often happens that we need to search through a string of characters to find an occurrence (if there is one) of a given pattern, e.g. genetics and DNA searches, keyword searches."
   ]
  },
  {
   "cell_type": "markdown",
   "metadata": {},
   "source": [
    "### Basic string search"
   ]
  },
  {
   "cell_type": "markdown",
   "metadata": {},
   "source": [
    "#### Algorithm: StringMatch\n",
    "We are representing the sequence to be searched simply as a string of characters, referred to as the search string $S$, a shorter sequence is the target string $T$ and we are trying to find where the first occurrence of $T$ is, if it is present in $S$."
   ]
  },
  {
   "cell_type": "markdown",
   "metadata": {},
   "source": [
    "#### Initial Insight\n",
    "Repeatedly shift $T$ one place along $S$ and then compare the characters of $T$ with those of $S$. Do this until a match of $T$ in $S$ is found, or the end of $S$ is reached."
   ]
  },
  {
   "cell_type": "markdown",
   "metadata": {},
   "source": [
    "#### Specification\n",
    "\n",
    "<table>\n",
    "   <tr>\n",
    "     <th>Name:</th>\n",
    "     <td><b>StringMatch</b></td>\n",
    "   </tr>\n",
    "   <tr>\n",
    "     <th>Inputs:</th>\n",
    "     <td>A search string $S = (s_1, s_2, s_3, ..., s_n)$<br/>A target string $T = (t_1, t_2, t_3, ..., t_m)$</td>\n",
    "   </tr>\n",
    "   <tr>\n",
    "     <th>Outputs:</th>\n",
    "     <td>An integer $x$</td>\n",
    "   </tr>\n",
    "   <tr>\n",
    "     <th>Preconditions:</th>\n",
    "     <td>$m\\le n$, $m>0$ and $n>0$</td>\n",
    "   </tr>\n",
    "   <tr>\n",
    "     <th>Postcondition:</th>\n",
    "     <td>If there is an occurrence of $T$ in $S$, $x$ is the start position of the first occurrence of $T$ in $S$; otherwise $x = -1$</td>\n",
    "   </tr>\n",
    "</table> "
   ]
  },
  {
   "cell_type": "markdown",
   "metadata": {},
   "source": [
    "#### Code"
   ]
  },
  {
   "cell_type": "code",
   "execution_count": 85,
   "metadata": {
    "collapsed": false
   },
   "outputs": [],
   "source": [
    "def basicStringSearch(searchString, target):\n",
    "\n",
    "    searchIndex = 0\n",
    "    \n",
    "    lenT = len(target)    \n",
    "    lenS = len(searchString)    \n",
    "    \n",
    "    while searchIndex + lenT <= lenS:\n",
    "\n",
    "        targetIndex = 0\n",
    "\n",
    "        while targetIndex < lenT and target[targetIndex] == searchString[ targetIndex + searchIndex]:\n",
    "            targetIndex += 1\n",
    "\n",
    "        if targetIndex == lenT:\n",
    "            return searchIndex\n",
    "\n",
    "        searchIndex += 1\n",
    "\n",
    "    return -1"
   ]
  },
  {
   "cell_type": "code",
   "execution_count": 86,
   "metadata": {
    "collapsed": false
   },
   "outputs": [
    {
     "name": "stdout",
     "output_type": "stream",
     "text": [
      "True\n",
      "True\n",
      "True\n",
      "True\n"
     ]
    }
   ],
   "source": [
    "# Test Code\n",
    "for target, index in [('per', 0), ('lta', 14), ('ad', 10), ('astra', -1)]:\n",
    "    print(basicStringSearch('per ardua ad alta', target)==index)"
   ]
  },
  {
   "cell_type": "markdown",
   "metadata": {},
   "source": [
    "#### Remarks\n",
    "It becomes immediately apparent when implement that this algorithm would consist of two nested loops leading to complexity $O(mn) > O(m^2)$.<br/><br/>\n",
    "We know that if the character in $S$ following the failed comparison with $T$ is not in $T$ then there is no need to slide along one place to do another comparison. We should slide to the next point beyond it. This gives us the basis for an improved algorithm."
   ]
  },
  {
   "cell_type": "markdown",
   "metadata": {},
   "source": [
    "### Quick search"
   ]
  },
  {
   "cell_type": "markdown",
   "metadata": {},
   "source": [
    "#### Initial Insight\n",
    "For each character in $T$ calculate the number of positions to shift $T$ if a comparison fails, according to where (if at all) that character appears in $T$.<br/><br/>\n",
    "Repeatedly compare the characters of $T$ with those of $S$. If a comparison fails, examine the next character along in $S$ and shift $T$ by the calculated shift distance for that character.<br/><br/>\n",
    "Do this until an occurrence of $T$ in $S$ is found, or the end of $S$ is reached."
   ]
  },
  {
   "cell_type": "markdown",
   "metadata": {},
   "source": [
    "#### Remarks\n",
    "An important point to note first of all is that the part of the algorithm calculating the shifts depends entirely on an analysis of the target string $T$ – there is no need to examine the search string $S$ at all because for any character in $S$ that is not in $T$, the shift is a fixed distance.<br/><br/>\n",
    "The database is called a <b>shift table</b> and it stores a <b>shift distance</b> for each character in the domain of $S$ – e.g. for each character of the alphabet, or say, all upper and lower case plus punctuation.<br/><br/>\n",
    "The <b>shift distance</b> is calculated according to the following rules:\n",
    "<ol>\n",
    "  <li>If the character does not appear in T, the shift distance is one more than the length of T.</li>\n",
    "  <li>If the character does appear in T, the shift distance is the first position at which it appears, counting from right to left and starting at 1. (Hence when a character appears more than once in $T$ keeps the lowest position.)</li>\n",
    "</ol>\n",
    "\n",
    "Suppose $S = $'GGGGGAGGCGGCGGT'. Then for target string $T = $'TCCACC', we have:\n",
    "<table>\n",
    "   <tr>\n",
    "     <th>G</th>\n",
    "     <th>A</th>\n",
    "     <th>C</th>\n",
    "     <th>T</th>\n",
    "   </tr>\n",
    "   <tr>\n",
    "     <td>7</td>\n",
    "     <td>3</td>\n",
    "     <td>1</td>\n",
    "     <td>6</td>\n",
    "   </tr>\n",
    "</table>\n",
    "and if $T = $'TGGCG', we have:\n",
    "<table>\n",
    "   <tr>\n",
    "     <th>G</th>\n",
    "     <th>A</th>\n",
    "     <th>C</th>\n",
    "     <th>T</th>\n",
    "   </tr>\n",
    "   <tr>\n",
    "     <td>1</td>\n",
    "     <td>6</td>\n",
    "     <td>2</td>\n",
    "     <td>5</td>\n",
    "   </tr>\n",
    "</table>\n",
    "\n",
    "<br/>\n",
    "Once the shift table has been computed, the search part of the quick search algorithm is similar to the basic string search algorithm, except that at the end of each failed attempt we look at the next character along in $S$ that is beyond $T$ and use this to look up in the shift table how many steps to slide $T$.<br/>\n"
   ]
  },
  {
   "cell_type": "markdown",
   "metadata": {},
   "source": [
    "We implement the <b>shift table</b> as a dictionary in Python:"
   ]
  },
  {
   "cell_type": "markdown",
   "metadata": {},
   "source": [
    "#### Code"
   ]
  },
  {
   "cell_type": "code",
   "execution_count": 87,
   "metadata": {
    "collapsed": false
   },
   "outputs": [],
   "source": [
    "def buildShiftTable(target, alphabet):\n",
    "\n",
    "    shiftTable = {}\n",
    "\n",
    "    for character in alphabet:\n",
    "        shiftTable[character] = len(target) + 1\n",
    "\n",
    "    for i in range(len(target)):\n",
    "        char = target[i]\n",
    "        shift = len(target) - i\n",
    "        shiftTable[char] = shift\n",
    "\n",
    "    return shiftTable"
   ]
  },
  {
   "cell_type": "code",
   "execution_count": 88,
   "metadata": {
    "collapsed": false
   },
   "outputs": [],
   "source": [
    "def quickSearch (searchString, target, alphabet):\n",
    "\n",
    "    shiftTable = buildShiftTable(target, alphabet)\n",
    "    searchIndex = 0\n",
    "\n",
    "    while searchIndex + len(target) <= len(searchString):\n",
    " \n",
    "        targetIndex = 0\n",
    "\n",
    "        # Compares the strings    \n",
    "        while targetIndex < len(target) and target[targetIndex] == searchString[searchIndex + targetIndex]:\n",
    "            targetIndex = targetIndex + 1\n",
    "\n",
    "        # Return index if target found\n",
    "        if targetIndex == len(target): return searchIndex\n",
    "\n",
    "        # Continue search with new shivt value or exit\n",
    "        if searchIndex + len(target) < len(searchString):\n",
    "            next = searchString[searchIndex + len(target)]\n",
    "            shift = shiftTable[next]\n",
    "            searchIndex = searchIndex + shift\n",
    "        else:\n",
    "            return -1\n",
    "\n",
    "    return -1"
   ]
  },
  {
   "cell_type": "markdown",
   "metadata": {},
   "source": [
    "#### Tests"
   ]
  },
  {
   "cell_type": "code",
   "execution_count": 89,
   "metadata": {
    "collapsed": false
   },
   "outputs": [
    {
     "name": "stdout",
     "output_type": "stream",
     "text": [
      "15\n",
      "64\n",
      "-1\n"
     ]
    }
   ],
   "source": [
    "theAlphabet = {'G', 'A', 'C', 'T'}\n",
    "stringToSearch = 'ATGAATACCCACCTTACAGAAACCTGGGAAAAGGCAATAAATATTATAAAAGGTGAACTTACAGAAGTAA'\n",
    "\n",
    "for thetarget in ['ACAG', 'AAGTAA', 'CCCC']:\n",
    "    print(quickSearch(stringToSearch, thetarget, theAlphabet))"
   ]
  },
  {
   "cell_type": "markdown",
   "metadata": {},
   "source": [
    "#### Remarks\n",
    "The basic brute-force algorithm we wrote first will work fine with relatively short search strings but, as with all algorithms, inputs of huge size may overwhelm it. For example, DNA strings can be billions of bases long, so algorithmic efficiency can be vital. We noted already that the complexity of the basic string search can be as bad as O(nm) in the worst case.<br/><br/>\n",
    "\n",
    "As for the quick search algorithm, research has shown that its average-case performance is good but, unfortunately, its worst case behaviour is still O(mn).<br/><br/>"
   ]
  },
  {
   "cell_type": "markdown",
   "metadata": {},
   "source": [
    "### Knuth–Morris–Pratt (KMP)"
   ]
  },
  {
   "cell_type": "markdown",
   "metadata": {},
   "source": [
    "Better algorithms have been developed. One of the best-known efficient search algorithms is the <b>Knuth–Morris–Pratt (KMP)</b> algorithm. A full description of the precise details of the KMP algorithm is beyond the scope of this text."
   ]
  },
  {
   "cell_type": "markdown",
   "metadata": {},
   "source": [
    "#### Algorithm: Knuth–Morris–Pratt (KMP)\n",
    "The <b>KMP</b> algorithm is in two parts:\n",
    "\n",
    "<ol>\n",
    "  <li>Build a table of the lengths of prefix matches up to every character in the target string, $T$.</li>\n",
    "  <li>Move along the search string, $S$, using the information in the table to do the shifting and compare.</li>\n",
    "</ol>\n",
    "\n",
    "Once the prefix table has been built, the actual search in the second step proceeds like the other string-searching algorithms above, but when a mismatch is detected the algorithm uses the prefix table to decide how to shift $T$. The problem is to know if these prefix matches exist and – if they do – how long the matching substrings are.</br>\n",
    "\n",
    "The prefix will then be aligned as shown in Figure 4.17 and comparison can continue at the next character in S."
   ]
  },
  {
   "cell_type": "markdown",
   "metadata": {},
   "source": [
    "If you want to take the trouble, you can verify that the final table will be:"
   ]
  },
  {
   "cell_type": "code",
   "execution_count": 100,
   "metadata": {
    "collapsed": false
   },
   "outputs": [],
   "source": [
    "prefixTable = [0, 1, 0, 0, 0, 1, 2, 3, 4, 0, 0, 0, 1, 2]"
   ]
  },
  {
   "cell_type": "markdown",
   "metadata": {},
   "source": [
    "#### Code"
   ]
  },
  {
   "cell_type": "code",
   "execution_count": 92,
   "metadata": {
    "collapsed": true
   },
   "outputs": [],
   "source": [
    "# Helper function for kmpSearch()\n",
    "\n",
    "def buildPrefixTable(target):    \n",
    "\n",
    "    #The first line of code just builds a list that has len(target)\n",
    "    #items all of which are given the default value 0\n",
    "\n",
    "    prefixTable = [0] * len(target)\n",
    "    q = 0\n",
    "\n",
    "    for p in range(1, len(target)):\n",
    "\n",
    "        while q > 0 and target[q] != target[p]:\n",
    "            q = prefixTable[q - 1]\n",
    "\n",
    "        if target[q] == target[p]:\n",
    "            q = q + 1\n",
    "        \n",
    "        prefixTable[p] = q\n",
    "\n",
    "    return prefixTable"
   ]
  },
  {
   "cell_type": "code",
   "execution_count": 93,
   "metadata": {
    "collapsed": false
   },
   "outputs": [],
   "source": [
    "def kmpSearch(searchString, target):\n",
    "\n",
    "    n = len(searchString)\n",
    "    m = len(target)\n",
    "    prefixTable = buildPrefixTable(target)\n",
    "    q = 0\n",
    "\n",
    "    for i in range(n):\n",
    "\n",
    "        while q > 0 and target[q] != searchString[i]:\n",
    "            q = prefixTable[q - 1]\n",
    "\n",
    "        if target[q] == searchString[i]:\n",
    "            q = q + 1\n",
    "    \n",
    "        if q == m:\n",
    "            return i - m + 1\n",
    "\n",
    "    return -1"
   ]
  },
  {
   "cell_type": "markdown",
   "metadata": {},
   "source": [
    "#### Tests"
   ]
  },
  {
   "cell_type": "code",
   "execution_count": 94,
   "metadata": {
    "collapsed": false
   },
   "outputs": [
    {
     "name": "stdout",
     "output_type": "stream",
     "text": [
      "15\n",
      "64\n",
      "-1\n"
     ]
    }
   ],
   "source": [
    "stringToSearch = 'ATGAATACCCACCTTACAGAAACCTGGGAAAAGGCAATAAATATTATAAAAGGTGAACTTACAGAAGTAA'\n",
    "\n",
    "for thetarget in ['ACAG', 'AAGTAA', 'CCCC']:\n",
    "    print(kmpSearch(stringToSearch, thetarget))"
   ]
  },
  {
   "cell_type": "markdown",
   "metadata": {},
   "source": [
    "#### Remarks\n",
    "What about the complexity of the KMP algorithm? Computing the prefix table takes significant effort but in fact there is an efficient algorithm for doing it. Overall, the KMP algorithm has complexity $O(m + n)$. Since $n$ is usually enormously larger than $m$ (think of searching a DNA string of billions of bases), $m$ is usually dominated by $n$, so this means that KMP has effective complexity $O(n)$."
   ]
  },
  {
   "cell_type": "markdown",
   "metadata": {},
   "source": [
    "### Other Algorithms"
   ]
  },
  {
   "cell_type": "markdown",
   "metadata": {},
   "source": [
    "String search is an immensely important application in modern computing, and at least 30 efficient algorithms have been developed for the task. Many of these depend on the principle embodied in the quick search and KMP algorithms – shifting the target string an appropriate distance along the search string at each step, based on information in a table. The <b>Boyer–Moore</b> algorithm, for example, combines elements of both these two algorithms. This algorithm is widely used in practical applications.\n",
    "\n",
    "There are also string-search algorithms that work in entirely different ways from the examples we have looked at. Generally, these are beyond the scope of this text, but some are based on hashing functions, which we now move on to discuss next."
   ]
  },
  {
   "cell_type": "markdown",
   "metadata": {},
   "source": [
    " "
   ]
  },
  {
   "cell_type": "markdown",
   "metadata": {},
   "source": [
    "## 4.3 Hashing and Hash Tables"
   ]
  },
  {
   "cell_type": "code",
   "execution_count": null,
   "metadata": {
    "collapsed": true
   },
   "outputs": [],
   "source": []
  }
 ],
 "metadata": {
  "anaconda-cloud": {},
  "kernelspec": {
   "display_name": "Python [Root]",
   "language": "python",
   "name": "Python [Root]"
  },
  "language_info": {
   "codemirror_mode": {
    "name": "ipython",
    "version": 3
   },
   "file_extension": ".py",
   "mimetype": "text/x-python",
   "name": "python",
   "nbconvert_exporter": "python",
   "pygments_lexer": "ipython3",
   "version": "3.5.2"
  }
 },
 "nbformat": 4,
 "nbformat_minor": 0
}
