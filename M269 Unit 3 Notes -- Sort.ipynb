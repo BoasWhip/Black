{
 "cells": [
  {
   "cell_type": "markdown",
   "metadata": {},
   "source": [
    "# Sort\n",
    "\n",
    "### Introduction\n",
    "\n",
    "Sorting is the process of placing elements from a collection in some kind of order. This suggests that sorting is an important area of study in computer science and sorting also provides instructive examples of how algorithms and data structures work together, and of how the correct choice of data structure can make dramatic improvements in execution speed and memory usage.\n",
    "\n",
    "An understanding of <b>recursion</b> allows us to consider more sophisticated procedures for sorting, notably quick sort, one of the fastest sorting algorithms. An understanding of recursive algorithms also leads also to the recognition that data structures themselves can be recursive. This insight is illustrated through an analysis of the heap sort algorithm, in which a recursive data structure known as a <b>heap</b> is used for the purposes of sorting."
   ]
  },
  {
   "cell_type": "markdown",
   "metadata": {
    "collapsed": true
   },
   "source": [
    "### 1. What is sorting?\n",
    "\n",
    "#### Definition\n",
    "Suppose we have a collection, $C$, of items of data, (and we limit our discussion to dealing mostly with linear structures). Sorting $C$ means rearranging (reordering) its data items, based on an <b>ordering property</b> of each item, into ascending or descending order (and a reordering of a sequence has exactly the same items as the original sequence, but in a different order).\n",
    "\n",
    "If it is sorted into ascending order then if item $A$ comes before item $B$ it must also be true that $A \\leq B$, according to the particular ordering property we are using. If $C$ is sorted in descending order then we would have $A \\geq B$.\n",
    "\n",
    "A formal, mathematical statement of sorting in, say, <i>ascending order</i> would run as follows:\n",
    "\n",
    "Given a sequence of $n$ items $(x1, x2, …, xn)$, find a reordering $(x'_1, x'_2, ..., x'_n)$ such that $x′_1\\leq x′2\\leq ... \\leq x′n$.\n",
    "\n",
    "This leads us into writing our specification for <i>ascending</i> sort:"
   ]
  },
  {
   "cell_type": "markdown",
   "metadata": {},
   "source": [
    "<table>\n",
    "   <tr>\n",
    "     <th>Name:</th>\n",
    "     <td><b>Sort</b></td>\n",
    "   </tr>\n",
    "   <tr>\n",
    "     <th>Inputs:</th>\n",
    "     <td>A sequence of elements $C = \\{c_1, c_2, c_3, ..., c_n\\}$</td>\n",
    "   </tr>\n",
    "   <tr>\n",
    "     <th>Outputs:</th>\n",
    "     <td>A re-ordering of $C$: $C' = \\{c'_1, c'_2, c'_3, ..., c'_n\\}$</td>\n",
    "   </tr>\n",
    "   <tr>\n",
    "     <th>Preconditions:</th>\n",
    "     <td>All $c_i$ in $C$ must have the same <b>ordering property</b></td>\n",
    "   </tr>\n",
    "   <tr>\n",
    "     <th>Postcondition:</th>\n",
    "     <td>$c'_1\\leq c'_2\\leq c'_3\\leq ... \\leq c'_n$</td>\n",
    "   </tr>\n",
    "</table>\n",
    "\n",
    "and we continue, in general terms, but conduct our discussion in terms of ascending sort for simplicity."
   ]
  },
  {
   "cell_type": "markdown",
   "metadata": {},
   "source": [
    "#### Complexity\n",
    "\n",
    "To sort a small number of items, a complex sorting method may be more trouble than it is worth and the overhead may be too high – a simple, rough-and-ready, unsystematic method may suffice. We often refer to such simple strategies as <b>naive sorting</b> or <b>straight sorting</b> methods.\n",
    "\n",
    "Sorting a large number of items can take a substantial amount of computing resources and the efficiency of a sorting algorithm becomes material, and every significant improvement can matter. Two different units of computation are commonly considered when measuring the complexity and evaluating the overall efficiency of a sorting algorithm:\n",
    "<ol type=\"a.\">\n",
    "    <li><i>Comparison</i>, the most commonly used unit, where we determine if one item is larger or smaller than another; and</li>\n",
    "    \n",
    "    <li><i>Swap</i>, if, during sorting, two values are found to be out of order, exchanging the positions of the two items is a swap. This exchange is costly.</li>\n",
    "</ol>"
   ]
  },
  {
   "cell_type": "markdown",
   "metadata": {},
   "source": [
    "### 2. Naive Sorting\n"
   ]
  },
  {
   "cell_type": "code",
   "execution_count": null,
   "metadata": {
    "collapsed": true
   },
   "outputs": [],
   "source": []
  },
  {
   "cell_type": "code",
   "execution_count": null,
   "metadata": {
    "collapsed": true
   },
   "outputs": [],
   "source": []
  }
 ],
 "metadata": {
  "anaconda-cloud": {},
  "kernelspec": {
   "display_name": "Python [Root]",
   "language": "python",
   "name": "Python [Root]"
  },
  "language_info": {
   "codemirror_mode": {
    "name": "ipython",
    "version": 3
   },
   "file_extension": ".py",
   "mimetype": "text/x-python",
   "name": "python",
   "nbconvert_exporter": "python",
   "pygments_lexer": "ipython3",
   "version": "3.5.2"
  }
 },
 "nbformat": 4,
 "nbformat_minor": 0
}
